{
  "nbformat": 4,
  "nbformat_minor": 0,
  "metadata": {
    "colab": {
      "provenance": [],
      "authorship_tag": "ABX9TyM1xmfc/FYD7Go3X2DQEsR/",
      "include_colab_link": true
    },
    "kernelspec": {
      "name": "python3",
      "display_name": "Python 3"
    },
    "language_info": {
      "name": "python"
    }
  },
  "cells": [
    {
      "cell_type": "markdown",
      "metadata": {
        "id": "view-in-github",
        "colab_type": "text"
      },
      "source": [
        "<a href=\"https://colab.research.google.com/github/OHKANGEUN/basic_python2221028/blob/main/basic_python221028.ipynb\" target=\"_parent\"><img src=\"https://colab.research.google.com/assets/colab-badge.svg\" alt=\"Open In Colab\"/></a>"
      ]
    },
    {
      "cell_type": "code",
      "execution_count": 7,
      "metadata": {
        "colab": {
          "base_uri": "https://localhost:8080/",
          "height": 137
        },
        "id": "16y38H_haJ94",
        "outputId": "063ebfc2-65aa-4325-e9b0-8a45530f9d07"
      },
      "outputs": [
        {
          "output_type": "error",
          "ename": "SyntaxError",
          "evalue": "ignored",
          "traceback": [
            "\u001b[0;36m  File \u001b[0;32m\"<ipython-input-7-28283049c4c4>\"\u001b[0;36m, line \u001b[0;32m8\u001b[0m\n\u001b[0;31m    print(\"큰 수는? :\", max(x,y))\u001b[0m\n\u001b[0m        ^\u001b[0m\n\u001b[0;31mSyntaxError\u001b[0m\u001b[0;31m:\u001b[0m invalid syntax\n"
          ]
        }
      ],
      "source": [
        "x=int(input(\"x의 값은?:\"))\n",
        "y=int(input(\"y의 값은?:\"))\n",
        "\n",
        "print(\"두 수의 합은 :\",x+y)\n",
        "print(\"두 수의 차는 :\",x-y)\n",
        "print(\"두 수의 곱은 :\",x*y)\n",
        "print(\"두 수의 평균는 :\",(x+y/2)\n",
        "print(\"큰 수는? :\", max(x,y))\n",
        "print(\"작은 수는?:\",min(x,y))\n"
      ]
    }
  ]
}